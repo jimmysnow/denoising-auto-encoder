{
 "cells": [
  {
   "cell_type": "markdown",
   "metadata": {},
   "source": [
    "# Homework 2: Denoising Auto Encoder\n",
    "\n",
    "Nikolas Wolfe<br>\n",
    "December 20th, 2015"
   ]
  },
  {
   "cell_type": "markdown",
   "metadata": {},
   "source": [
    "## Problem 1\n",
    "Download PASCAL VOC2007 dataset from VOC2007 website. This dataset includes training, validation and testing sets. You can fnd the images inside JPEGImages folder and the labels inside the Imagets/Main folder."
   ]
  },
  {
   "cell_type": "code",
   "execution_count": 7,
   "metadata": {
    "collapsed": false
   },
   "outputs": [
    {
     "name": "stdout",
     "output_type": "stream",
     "text": [
      "total 0\n",
      "drwxr-xr-x  5013 nwolfe  staff  170442 Nov  6  2007 Annotations\n",
      "drwxr-xr-x     5 nwolfe  staff     170 Nov  6  2007 ImageSets\n",
      "drwxr-xr-x  5013 nwolfe  staff  170442 Nov  6  2007 JPEGImages\n",
      "drwxr-xr-x   424 nwolfe  staff   14416 Nov  6  2007 SegmentationClass\n",
      "drwxr-xr-x   424 nwolfe  staff   14416 Nov  6  2007 SegmentationObject\n",
      "total 0\n",
      "drwxr-xr-x  4954 nwolfe  staff  168436 Nov  6  2007 Annotations\n",
      "drwxr-xr-x     5 nwolfe  staff     170 Nov  6  2007 ImageSets\n",
      "drwxr-xr-x  4954 nwolfe  staff  168436 Nov  6  2007 JPEGImages\n",
      "drwxr-xr-x   212 nwolfe  staff    7208 Nov  6  2007 SegmentationClass\n",
      "drwxr-xr-x   212 nwolfe  staff    7208 Nov  6  2007 SegmentationObject\n"
     ]
    }
   ],
   "source": [
    "%%bash\n",
    "## For this I have downloaded the VOC2007 dataset, and I have placed the train/test data in two folders:\n",
    "ls -l train/VOC2007/\n",
    "ls -l test/VOC2007/"
   ]
  },
  {
   "cell_type": "markdown",
   "metadata": {
    "collapsed": true
   },
   "source": [
    "Together there are 2501 training images, 2510 validation images and 4952 testing images. Train a Denosing Autoencoder with different noise levels using the training set and visualize the learned filters as in here. Here you can use the whole image (re-size to a fixed size, e.g., 256x256) or sub-sampled small patches with a fixed size (e.g., 30x30). Comparing both of them will give you extra credits."
   ]
  },
  {
   "cell_type": "markdown",
   "metadata": {},
   "source": [
    "## Building An AutoEncoder\n",
    "The first step on this journey is to download and install a few packages we will need. I will be building this project using Google <a href=\"https://www.tensorflow.org/\">TensorFlow</a>"
   ]
  },
  {
   "cell_type": "code",
   "execution_count": 9,
   "metadata": {
    "collapsed": true
   },
   "outputs": [],
   "source": [
    "import tensorflow as tf\n",
    "import sys, os, numpy"
   ]
  },
  {
   "cell_type": "markdown",
   "metadata": {},
   "source": [
    "## Problem 2\n",
    "Given the PASCAL dataset from Part 1, train a Stacked Denosing Autoencoder\n",
    "as in here using the training set and use it as:"
   ]
  },
  {
   "cell_type": "markdown",
   "metadata": {},
   "source": [
    "* A fixed network to extract features. Train RBF SVMs using the extracted features from the training set. Again, here you can use a small network trained with sub-sampled inputs and average the output of the network to get image-level features when you train the SVMs."
   ]
  },
  {
   "cell_type": "markdown",
   "metadata": {},
   "source": [
    "* A pre-trained network to initialize a feed-forward network and finne-tune the feed-forward network using the training set. Here you will have to use the whole re-sized images as the inputs. Given the fact that an image may have multiple labels in this dataset, you may not want to use a softmax layer as your output layer. Explore the network structure and SVM parameters to achieve the best validation accuracy (mAP for SVM) you can get. Report the best network structure, SVM parameters the corresponding testing MAP."
   ]
  },
  {
   "cell_type": "code",
   "execution_count": null,
   "metadata": {
    "collapsed": true
   },
   "outputs": [],
   "source": []
  }
 ],
 "metadata": {
  "kernelspec": {
   "display_name": "Python 2",
   "language": "python",
   "name": "python2"
  },
  "language_info": {
   "codemirror_mode": {
    "name": "ipython",
    "version": 2
   },
   "file_extension": ".py",
   "mimetype": "text/x-python",
   "name": "python",
   "nbconvert_exporter": "python",
   "pygments_lexer": "ipython2",
   "version": "2.7.11"
  }
 },
 "nbformat": 4,
 "nbformat_minor": 0
}
